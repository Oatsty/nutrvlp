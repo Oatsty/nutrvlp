{
 "cells": [
  {
   "cell_type": "code",
   "execution_count": 1,
   "metadata": {},
   "outputs": [],
   "source": [
    "import pickle\n",
    "import json\n",
    "import numpy as np\n",
    "import os"
   ]
  },
  {
   "cell_type": "code",
   "execution_count": 2,
   "metadata": {},
   "outputs": [],
   "source": [
    "#data\n",
    "path_layer1 ='/srv/datasets2/recipe1m+/utfood_3.10/layer1.json'\n",
    "with open(path_layer1, \"r\") as f:\n",
    "    layer1 = json.load(f)\n",
    "with open('/srv/datasets2/recipe1m+/food.com_data_rescaled/nutr/food.com_nutr_g_per_recipe.json') as f:\n",
    "    nutr_per_recipes = json.load(f)\n",
    "with open('/srv/datasets2/recipe1m+/food.com_data_rescaled/nutr/simplified_food_ids_per_recipes.json') as f:\n",
    "    food_ids_per_recipes = json.load(f)\n",
    "with open('/srv/datasets2/recipe1m+/food.com_data_rescaled/nutr/simplified_weighted_food_ids_per_recipes.json') as f:\n",
    "    weighted_food_ids_per_recipes = json.load(f)\n",
    "with open('ingredient_meds.json') as f:\n",
    "    ingredient_meds = json.load(f)\n",
    "with open('../out/models/nutr_ingr_only/base_20ep/food_test/out_nutr.json') as f:\n",
    "    pred_nutr = json.load(f)\n",
    "with open('../out/models/nutr_ingr_only/base_20ep/food_test/out_ingrs.json') as f:\n",
    "    pred_ingrs = json.load(f)"
   ]
  },
  {
   "cell_type": "code",
   "execution_count": 3,
   "metadata": {},
   "outputs": [],
   "source": [
    "dir = 'deep_ht/direct_ingrs_3_branches/no_nutr/food_test_recipe_only'\n",
    "im2recipe = np.load(f'../out/models/{dir}/im2recipe.npy')\n",
    "recipe2im = np.load(f'../out/models/{dir}/recipe2im.npy')\n",
    "with open(f'../out/models/{dir}/img_path','rb') as f:\n",
    "    img_path = pickle.load(f)\n",
    "with open(f'../out/models/{dir}/saved_ids','rb') as f:\n",
    "    saved_ids = pickle.load(f)"
   ]
  },
  {
   "cell_type": "code",
   "execution_count": 129,
   "metadata": {},
   "outputs": [],
   "source": [
    "im2recipe_dict = {}\n",
    "for i, sorted_recipe in enumerate(im2recipe):\n",
    "    avail_sorted_recipe = [saved_ids[idx] for idx in sorted_recipe][:100]\n",
    "    im2recipe_dict[saved_ids[i]] = avail_sorted_recipe\n",
    "save_path = f'results_100_ret/{dir}.json'\n",
    "os.makedirs(os.path.dirname(save_path),exist_ok=True)\n",
    "with open(save_path,'w') as f:\n",
    "    json.dump(im2recipe_dict,f,indent=2)"
   ]
  },
  {
   "cell_type": "code",
   "execution_count": 130,
   "metadata": {},
   "outputs": [],
   "source": [
    "recipe2im_dict = {}\n",
    "for i, sorted_recipe in enumerate(recipe2im.T):\n",
    "    avail_sorted_recipe = [saved_ids[idx] for idx in sorted_recipe][:100]\n",
    "    recipe2im_dict[saved_ids[i]] = avail_sorted_recipe\n",
    "save_path = f'results_100_ret_rec_to_im/{dir}.json'\n",
    "os.makedirs(os.path.dirname(save_path),exist_ok=True)\n",
    "with open(save_path,'w') as f:\n",
    "    json.dump(recipe2im_dict,f,indent=2)"
   ]
  },
  {
   "cell_type": "code",
   "execution_count": 131,
   "metadata": {},
   "outputs": [],
   "source": [
    "def cal_recall(im2recipe_dict, top_k):\n",
    "    running_acc = 0\n",
    "    for recipe_id, results in im2recipe_dict.items():\n",
    "        top_results = results[:top_k]\n",
    "        # print(top_results)\n",
    "        if recipe_id in top_results:\n",
    "            running_acc += 1\n",
    "    acc = running_acc / len(im2recipe_dict)\n",
    "    return acc\n"
   ]
  },
  {
   "cell_type": "code",
   "execution_count": 37,
   "metadata": {},
   "outputs": [
    {
     "name": "stdout",
     "output_type": "stream",
     "text": [
      "0.21275720164609052\n",
      "0.5084362139917695\n",
      "0.6551440329218107\n"
     ]
    }
   ],
   "source": [
    "print(cal_recall(im2recipe_dict,1))\n",
    "print(cal_recall(im2recipe_dict,5))\n",
    "print(cal_recall(im2recipe_dict,10))"
   ]
  },
  {
   "cell_type": "code",
   "execution_count": 38,
   "metadata": {},
   "outputs": [
    {
     "name": "stdout",
     "output_type": "stream",
     "text": [
      "0.1685185185185185\n",
      "0.41316872427983536\n",
      "0.558641975308642\n"
     ]
    }
   ],
   "source": [
    "print(cal_recall(recipe2im_dict,1))\n",
    "print(cal_recall(recipe2im_dict,5))\n",
    "print(cal_recall(recipe2im_dict,10))"
   ]
  },
  {
   "cell_type": "code",
   "execution_count": 4,
   "metadata": {},
   "outputs": [],
   "source": [
    "def cal_iou(input_1, input_2):\n",
    "    input_1 = set(input_1)\n",
    "    input_2 = set(input_2)\n",
    "    u = input_1.union(input_2)\n",
    "    i = input_1.intersection(input_2)\n",
    "    return len(i) / len(u)\n",
    "\n",
    "def cal_weighted_iou(input_1, input_2, w_1, w_2):\n",
    "    all_weight = sum(w_1) + sum(w_2)\n",
    "    intersect_weight = 0.\n",
    "    for i, ingr in enumerate(input_1):\n",
    "        if ingr in input_2:\n",
    "            j = input_2.index(ingr)\n",
    "            intersect_weight += w_1[i] + w_2[j]\n",
    "    return intersect_weight / (all_weight + 1e-8)\n",
    "\n",
    "def cal_norm_weighted_iou(input_1, input_2, w_1, w_2):\n",
    "    all_weight = sum(w_1) + sum(w_2)\n",
    "    intersect_weight = 0.\n",
    "    for i, ingr in enumerate(input_1):\n",
    "        if ingr in input_2:\n",
    "            j = input_2.index(ingr)\n",
    "            intersect_weight += min(w_1[i],w_2[j])\n",
    "            all_weight -= min(w_1[i],w_2[j])\n",
    "    return intersect_weight / (all_weight + 1e-8)\n",
    "\n",
    "def cal_mean_iou(im2recipe_dict,food_ids_per_recipes,weighted_food_ids_per_recipes):\n",
    "    ious = []\n",
    "    weighted_ious = []\n",
    "    for recipe_id, results in im2recipe_dict.items():\n",
    "        result = results[0]\n",
    "        ious.append(cal_iou(food_ids_per_recipes[recipe_id],food_ids_per_recipes[result]))\n",
    "        weighted_ious.append(cal_weighted_iou(food_ids_per_recipes[recipe_id],food_ids_per_recipes[result],weighted_food_ids_per_recipes[recipe_id]['weight'],weighted_food_ids_per_recipes[result]['weight']))\n",
    "    iou = sum(ious)/len(ious) * 100\n",
    "    weighted_iou = sum(weighted_ious)/len(weighted_ious) * 100\n",
    "    return iou, weighted_iou\n",
    "\n",
    "def cal_mase(pred, gt):\n",
    "    # ms = {'energy': 211.98462376370378, 'fat': 10.765786025555727, 'carb': 22.87488284825082, 'protein': 6.497832050027167}\n",
    "    mads = {'energy': 100.39411644302027, 'fat': 7.139428395140109, 'carb': 15.985982100326039, 'protein': 3.841522669109835}\n",
    "    aes = {}\n",
    "    ases = {}\n",
    "    for nutr_name in gt.keys():\n",
    "        aes[nutr_name] = abs(pred[nutr_name] - gt[nutr_name])\n",
    "        ases[nutr_name] = aes[nutr_name] / mads[nutr_name]\n",
    "    mase = sum(list(ases.values()))/len(list(gt.keys()))\n",
    "    return aes, ases, mase"
   ]
  },
  {
   "cell_type": "code",
   "execution_count": 5,
   "metadata": {},
   "outputs": [],
   "source": [
    "dir = 'deep_ht/direct_ingrs_3_branches/no_nutr/food_test_recipe_only'\n",
    "with open(f'results_100_ret/{dir}.json') as f:\n",
    "    im2recipe_dict = json.load(f)"
   ]
  },
  {
   "cell_type": "code",
   "execution_count": 6,
   "metadata": {},
   "outputs": [],
   "source": [
    "im2recipe_dict_reranked = {}\n",
    "k = 20\n",
    "big_k = 20\n",
    "iou_thresh = 0.3\n",
    "for query, sorted_recipe in im2recipe_dict.items():\n",
    "    pseudo_nutr = pred_nutr[query]\n",
    "    pseudo_ingr = pred_ingrs[query]\n",
    "    sorted_recipe = [recipe for recipe in sorted_recipe if recipe != query]\n",
    "    reranked_recipe = sorted_recipe\n",
    "    reranked_recipe = [recipe for recipe in sorted_recipe if cal_iou(pseudo_ingr,food_ids_per_recipes[recipe]) > iou_thresh]\n",
    "\n",
    "    if len(reranked_recipe) < k:\n",
    "        reranked_recipe = sorted(sorted_recipe,key = lambda x: cal_iou(food_ids_per_recipes[x],pseudo_ingr),reverse=True)[:big_k]\n",
    "    reranked_recipe = sorted(reranked_recipe,key= lambda x: cal_mase(nutr_per_recipes[x],pseudo_nutr)[2])\n",
    "    im2recipe_dict_reranked[query] = reranked_recipe\n",
    "save_path = f'results/reranked_100_direct/{dir}.json'\n",
    "os.makedirs(os.path.dirname(save_path),exist_ok=True)\n",
    "with open(save_path,'w') as f:\n",
    "    json.dump(im2recipe_dict_reranked,f,indent=2)"
   ]
  },
  {
   "cell_type": "code",
   "execution_count": 6,
   "metadata": {},
   "outputs": [],
   "source": [
    "im2recipe_dict_reranked = {}\n",
    "for query, sorted_recipe in im2recipe_dict.items():\n",
    "    pseudo_nutr = pred_nutr[query]\n",
    "    pseudo_ingr = pred_ingrs[query]\n",
    "    reranked_recipe = [recipe for recipe in sorted_recipe if recipe != query]\n",
    "    reranked_recipe = sorted(reranked_recipe,key= lambda x: cal_mase(nutr_per_recipes[x],pseudo_nutr)[2])\n",
    "    im2recipe_dict_reranked[query] = reranked_recipe\n",
    "save_path = f'results/reranked_100_wo_ingr_direct/{dir}.json'\n",
    "os.makedirs(os.path.dirname(save_path),exist_ok=True)\n",
    "with open(save_path,'w') as f:\n",
    "    json.dump(im2recipe_dict_reranked,f,indent=2)"
   ]
  },
  {
   "cell_type": "code",
   "execution_count": 7,
   "metadata": {},
   "outputs": [],
   "source": [
    "im2recipe_dict_reranked = {}\n",
    "for query, sorted_recipe in im2recipe_dict.items():\n",
    "    pseudo_nutr = pred_nutr[query]\n",
    "    pseudo_ingr = pred_ingrs[query]\n",
    "    sorted_recipe = [recipe for recipe in sorted_recipe if recipe != query]\n",
    "    reranked_recipe = sorted(sorted_recipe,key = lambda x: cal_iou(food_ids_per_recipes[x],pseudo_ingr),reverse=True)\n",
    "    im2recipe_dict_reranked[query] = reranked_recipe\n",
    "save_path = f'results/reranked_100_wo_nutr_direct/{dir}.json'\n",
    "os.makedirs(os.path.dirname(save_path),exist_ok=True)\n",
    "with open(save_path,'w') as f:\n",
    "    json.dump(im2recipe_dict_reranked,f,indent=2)"
   ]
  },
  {
   "cell_type": "code",
   "execution_count": null,
   "metadata": {},
   "outputs": [],
   "source": []
  }
 ],
 "metadata": {
  "kernelspec": {
   "display_name": "car",
   "language": "python",
   "name": "python3"
  },
  "language_info": {
   "codemirror_mode": {
    "name": "ipython",
    "version": 3
   },
   "file_extension": ".py",
   "mimetype": "text/x-python",
   "name": "python",
   "nbconvert_exporter": "python",
   "pygments_lexer": "ipython3",
   "version": "3.10.13"
  }
 },
 "nbformat": 4,
 "nbformat_minor": 2
}
