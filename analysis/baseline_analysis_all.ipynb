{
 "cells": [
  {
   "cell_type": "code",
   "execution_count": 23,
   "metadata": {},
   "outputs": [],
   "source": [
    "import pickle\n",
    "import json\n",
    "import numpy as np\n",
    "import os"
   ]
  },
  {
   "cell_type": "code",
   "execution_count": 24,
   "metadata": {},
   "outputs": [],
   "source": [
    "with open('/home/parinayok/nutr1m/data_crawl/food.com_annotated_nutr_per_recipe_old.json') as f:\n",
    "    nutr_per_recipes = json.load(f)\n",
    "with open('/srv/datasets2/recipe1m+/food.com_data_rescaled/nutr/simplified_food_ids_per_recipes.json') as f:\n",
    "    food_ids_per_recipes = json.load(f)\n",
    "with open('/srv/datasets2/recipe1m+/food.com_data_rescaled/nutr/simplified_weighted_food_ids_per_recipes.json') as f:\n",
    "    weighted_food_ids_per_recipes = json.load(f)\n",
    "with open('/srv/datasets2/recipe1m+/food.com_data_rescaled/nutr/food.com_nutr_g_per_recipe.json') as f:\n",
    "    nutr_g_per_recipes = json.load(f)"
   ]
  },
  {
   "cell_type": "code",
   "execution_count": 25,
   "metadata": {},
   "outputs": [],
   "source": [
    "def cal_iou(input_1, input_2):\n",
    "    input_1 = set(input_1)\n",
    "    input_2 = set(input_2)\n",
    "    u = input_1.union(input_2)\n",
    "    i = input_1.intersection(input_2)\n",
    "    return len(i) / len(u)\n",
    "\n",
    "def direct_cal_mean_iou(out_ingrs,food_ids_per_recipes):\n",
    "    ious = []\n",
    "    for recipe_id, pred_ingrs in out_ingrs.items():\n",
    "        ious.append(cal_iou(food_ids_per_recipes[recipe_id],pred_ingrs))\n",
    "    iou = sum(ious)/len(ious) * 100\n",
    "    return iou\n",
    "\n",
    "def direct_pred_nutr(out_nutr, nutr_per_recipes):\n",
    "    gts = {\n",
    "        'energy': [],\n",
    "        'fat': [],\n",
    "        'carb': [],\n",
    "        'protein': [],\n",
    "    }\n",
    "    preds = {\n",
    "        'energy': [],\n",
    "        'fat': [],\n",
    "        'carb': [],\n",
    "        'protein': [],\n",
    "    }\n",
    "    absolute_errors = {\n",
    "        'energy': [],\n",
    "        'fat': [],\n",
    "        'carb': [],\n",
    "        'protein': [],\n",
    "    }\n",
    "    percentage_errors = {\n",
    "        'energy': [],\n",
    "        'fat': [],\n",
    "        'carb': [],\n",
    "        'protein': [],\n",
    "    }\n",
    "    symmetric_percentage_errors = {\n",
    "        'energy': [],\n",
    "        'fat': [],\n",
    "        'carb': [],\n",
    "        'protein': [],\n",
    "    }\n",
    "\n",
    "    for recipe_id, pred_nutr in out_nutr.items():\n",
    "        gt_nutr = nutr_per_recipes[recipe_id]\n",
    "        for nutr_name in gts.keys():\n",
    "            gts[nutr_name].append(gt_nutr[nutr_name])\n",
    "            preds[nutr_name].append(pred_nutr[nutr_name])\n",
    "            absolute_errors[nutr_name].append(abs(pred_nutr[nutr_name] - gt_nutr[nutr_name]))\n",
    "            if gt_nutr[nutr_name] < 0.1:\n",
    "                percentage_errors[nutr_name].append(0)\n",
    "            else:\n",
    "                percentage_errors[nutr_name].append(abs(pred_nutr[nutr_name] - gt_nutr[nutr_name])/gt_nutr[nutr_name])\n",
    "            if gt_nutr[nutr_name] + pred_nutr[nutr_name] < 0.1:\n",
    "                symmetric_percentage_errors[nutr_name].append(0)\n",
    "            else:\n",
    "                symmetric_percentage_errors[nutr_name].append(2*abs(pred_nutr[nutr_name] - gt_nutr[nutr_name])/(gt_nutr[nutr_name] + pred_nutr[nutr_name]))\n",
    "    return gts, preds, absolute_errors, percentage_errors, symmetric_percentage_errors"
   ]
  },
  {
   "cell_type": "code",
   "execution_count": 26,
   "metadata": {},
   "outputs": [],
   "source": [
    "def cal_weighted_iou(input_1, input_2, w_1, w_2):\n",
    "    all_weight = sum(w_1) + sum(w_2)\n",
    "    intersect_weight = 0.\n",
    "    for i, ingr in enumerate(input_1):\n",
    "        if ingr in input_2:\n",
    "            j = input_2.index(ingr)\n",
    "            intersect_weight += w_1[i] + w_2[j]\n",
    "    return intersect_weight / all_weight\n",
    "\n",
    "def cal_mean_iou(im2recipe_dict,food_ids_per_recipes,weighted_food_ids_per_recipes):\n",
    "    ious = []\n",
    "    weighted_ious = []\n",
    "    for recipe_id, results in im2recipe_dict.items():\n",
    "        result = results[0]\n",
    "        ious.append(cal_iou(food_ids_per_recipes[recipe_id],food_ids_per_recipes[result]))\n",
    "        weighted_ious.append(cal_weighted_iou(food_ids_per_recipes[recipe_id],food_ids_per_recipes[result],weighted_food_ids_per_recipes[recipe_id]['weight'],weighted_food_ids_per_recipes[result]['weight']))\n",
    "    iou = sum(ious)/len(ious) * 100\n",
    "    weighted_iou = sum(weighted_ious)/len(weighted_ious) * 100\n",
    "    return iou, weighted_iou\n",
    "\n",
    "def pred_nutr(im2recipe_dict, nutr_per_recipes, top_k: int):\n",
    "\n",
    "    gts = {\n",
    "        'energy': [],\n",
    "        'fat': [],\n",
    "        'carb': [],\n",
    "        'protein': [],\n",
    "    }\n",
    "    preds = {\n",
    "        'energy': [],\n",
    "        'fat': [],\n",
    "        'carb': [],\n",
    "        'protein': [],\n",
    "    }\n",
    "    absolute_errors = {\n",
    "        'energy': [],\n",
    "        'fat': [],\n",
    "        'carb': [],\n",
    "        'protein': [],\n",
    "    }\n",
    "    percentage_errors = {\n",
    "        'energy': [],\n",
    "        'fat': [],\n",
    "        'carb': [],\n",
    "        'protein': [],\n",
    "    }\n",
    "    symmetric_percentage_errors = {\n",
    "        'energy': [],\n",
    "        'fat': [],\n",
    "        'carb': [],\n",
    "        'protein': [],\n",
    "    }\n",
    "\n",
    "    for recipe_id, results in im2recipe_dict.items():\n",
    "        top_k_results = results[:top_k]\n",
    "        gt_nutr = nutr_per_recipes[recipe_id]\n",
    "        pred_nutr = {}\n",
    "        for nutr_name in gts.keys():\n",
    "            pred_nutr[nutr_name] = sum([nutr_per_recipes[result][nutr_name] for result in top_k_results]) / top_k\n",
    "        for nutr_name in gts.keys():\n",
    "            gts[nutr_name].append(gt_nutr[nutr_name])\n",
    "            preds[nutr_name].append(pred_nutr[nutr_name])\n",
    "            absolute_errors[nutr_name].append(abs(pred_nutr[nutr_name] - gt_nutr[nutr_name]))\n",
    "            if gt_nutr[nutr_name] < 0.1:\n",
    "                percentage_errors[nutr_name].append(0)\n",
    "            else:\n",
    "                percentage_errors[nutr_name].append(abs(pred_nutr[nutr_name] - gt_nutr[nutr_name])/gt_nutr[nutr_name])\n",
    "            if gt_nutr[nutr_name] + pred_nutr[nutr_name] < 0.1:\n",
    "                symmetric_percentage_errors[nutr_name].append(0)\n",
    "            else:\n",
    "                symmetric_percentage_errors[nutr_name].append(2*abs(pred_nutr[nutr_name] - gt_nutr[nutr_name])/(gt_nutr[nutr_name] + pred_nutr[nutr_name]))\n",
    "    return gts, preds, absolute_errors, percentage_errors, symmetric_percentage_errors\n"
   ]
  },
  {
   "cell_type": "code",
   "execution_count": 36,
   "metadata": {},
   "outputs": [],
   "source": [
    "dir = 'vlpcook/base'\n",
    "dir_direct = 'deep_ht/direct_ingrs_3_branches/no_nutr/food_test'\n",
    "im2recipe = np.load(f'../out/models/{dir}/im2recipe.npy')\n",
    "recipe2im = np.load(f'../out/models/{dir}/recipe2im.npy')\n",
    "with open(f'../out/models/{dir}/img_path','rb') as f:\n",
    "    img_path = pickle.load(f)\n",
    "with open(f'../out/models/{dir}/saved_ids','rb') as f:\n",
    "    saved_ids = pickle.load(f)\n",
    "with open(f'../out/models/{dir_direct}/out_nutr.json','r') as f:\n",
    "    out_nutr = json.load(f)\n",
    "with open(f'../out/models/{dir_direct}/out_ingrs.json','r') as f:\n",
    "    out_ingrs = json.load(f)\n",
    "with open(f'results_50/{dir}.json') as f:\n",
    "    im2recipe_dict = json.load(f)"
   ]
  },
  {
   "cell_type": "code",
   "execution_count": 18,
   "metadata": {},
   "outputs": [],
   "source": [
    "# nearest top 1\n",
    "mads = {'energy': 1395.8724423387391,\n",
    " 'fat': 81.84545318660784,\n",
    " 'carb': 191.63350253321084,\n",
    " 'protein': 58.820853333231774}\n",
    "nutr_list = ['energy','fat','carb','protein']\n",
    "im2direct_recipe = {}\n",
    "for recipe_id, results in im2recipe_dict.items():\n",
    "    direct_nutr =  out_nutr[recipe_id]\n",
    "    pred_nutr_list = []\n",
    "    for result in results:\n",
    "        p_nutr = {}\n",
    "        for nutr_name in nutr_list:\n",
    "            p_nutr[nutr_name] = nutr_g_per_recipes[result][nutr_name]\n",
    "        pred_nutr_list.append(p_nutr)\n",
    "\n",
    "    ase_list = []\n",
    "    for i in range(len(pred_nutr_list)):\n",
    "        ase = 0.\n",
    "        for nutr_name in nutr_list:\n",
    "            absolute_error = abs(pred_nutr_list[i][nutr_name] - direct_nutr[nutr_name])\n",
    "            nutr_ase = absolute_error / mads[nutr_name]\n",
    "            ase += nutr_ase\n",
    "        ase_list.append(ase)\n",
    "\n",
    "    im2direct_recipe[recipe_id] = [results[np.argmin(np.array(ase_list))]]"
   ]
  },
  {
   "cell_type": "code",
   "execution_count": 19,
   "metadata": {},
   "outputs": [],
   "source": [
    "# #top 1 IOU\n",
    "# iou, weighted_iou = cal_mean_iou(im2recipe_dict,food_ids_per_recipes,weighted_food_ids_per_recipes)\n",
    "# print(f'{iou:.02f}%')\n",
    "# print(f'{weighted_iou:.02f}%')"
   ]
  },
  {
   "cell_type": "code",
   "execution_count": 20,
   "metadata": {},
   "outputs": [],
   "source": [
    "# #direct IOU\n",
    "# iou = direct_cal_mean_iou(out_ingrs,food_ids_per_recipes)\n",
    "# print(f'{iou:.03f}%')"
   ]
  },
  {
   "cell_type": "code",
   "execution_count": 21,
   "metadata": {},
   "outputs": [
    {
     "name": "stdout",
     "output_type": "stream",
     "text": [
      "25.075%\n",
      "47.399%\n"
     ]
    }
   ],
   "source": [
    "iou, weighted_iou = cal_mean_iou(im2direct_recipe,food_ids_per_recipes,weighted_food_ids_per_recipes)\n",
    "print(f'{iou:.03f}%')\n",
    "print(f'{weighted_iou:.03f}%')"
   ]
  },
  {
   "cell_type": "code",
   "execution_count": 22,
   "metadata": {},
   "outputs": [
    {
     "name": "stdout",
     "output_type": "stream",
     "text": [
      "energy: MAE = 1281.782, MASE = 0.918\n",
      "fat: MAE = 73.284, MASE = 0.895\n",
      "carb: MAE = 148.101, MASE = 0.773\n",
      "protein: MAE = 48.580, MASE = 0.826\n",
      "0.853\n",
      "energy: MAE = 54.262, MASE = 0.540\n",
      "fat: MAE = 4.986, MASE = 0.698\n",
      "carb: MAE = 7.091, MASE = 0.444\n",
      "protein: MAE = 2.236, MASE = 0.582\n",
      "0.566\n"
     ]
    }
   ],
   "source": [
    "# nearest top 1\n",
    "# recipe\n",
    "gts, preds, absolute_errors, percentage_errors, symmetric_percentage_errors = pred_nutr(im2direct_recipe,nutr_per_recipes,1)\n",
    "all_mase = []\n",
    "all_mad = {}\n",
    "for nutr_name in gts.keys():\n",
    "    mae = sum(absolute_errors[nutr_name])/len(absolute_errors[nutr_name])\n",
    "    m = np.array(gts[nutr_name]).mean()\n",
    "    mad = sum(np.abs(np.array(gts[nutr_name]) - m))/(len(gts[nutr_name]))\n",
    "    mase = mae / mad\n",
    "    all_mad[nutr_name] = mad\n",
    "    all_mase.append(mase)\n",
    "    print(f'{nutr_name}: MAE = {mae:.03f}, MASE = {mase:.03f}')\n",
    "print(f'{sum(all_mase)/4:.03f}')\n",
    "#gram\n",
    "gts, preds, absolute_errors, percentage_errors, symmetric_percentage_errors = pred_nutr(im2direct_recipe,nutr_g_per_recipes,1)\n",
    "all_mase = []\n",
    "all_mad = {}\n",
    "for nutr_name in gts.keys():\n",
    "    mae = sum(absolute_errors[nutr_name])/len(absolute_errors[nutr_name])\n",
    "    m = np.array(gts[nutr_name]).mean()\n",
    "    mad = sum(np.abs(np.array(gts[nutr_name]) - m))/(len(gts[nutr_name]))\n",
    "    mase = mae / mad\n",
    "    all_mad[nutr_name] = mad\n",
    "    all_mase.append(mase)\n",
    "    print(f'{nutr_name}: MAE = {mae:.03f}, MASE = {mase:.03f}')\n",
    "print(f'{sum(all_mase)/4:.03f}')"
   ]
  },
  {
   "cell_type": "code",
   "execution_count": 29,
   "metadata": {},
   "outputs": [
    {
     "name": "stdout",
     "output_type": "stream",
     "text": [
      "energy: MAE = 1270.35, MASE = 0.910\n",
      "fat: MAE = 78.62, MASE = 0.961\n",
      "carb: MAE = 143.33, MASE = 0.748\n",
      "protein: MAE = 48.08, MASE = 0.817\n",
      "0.859\n",
      "energy: MAE = 1060.26, MASE = 0.760\n",
      "fat: MAE = 65.33, MASE = 0.798\n",
      "carb: MAE = 121.74, MASE = 0.635\n",
      "protein: MAE = 41.38, MASE = 0.703\n",
      "0.724\n",
      "energy: MAE = 1025.86, MASE = 0.735\n",
      "fat: MAE = 63.20, MASE = 0.772\n",
      "carb: MAE = 119.22, MASE = 0.622\n",
      "protein: MAE = 40.29, MASE = 0.685\n",
      "0.704\n",
      "energy: MAE = 67.34, MASE = 0.671\n",
      "fat: MAE = 6.22, MASE = 0.871\n",
      "carb: MAE = 8.32, MASE = 0.520\n",
      "protein: MAE = 2.59, MASE = 0.675\n",
      "0.684\n",
      "energy: MAE = 56.08, MASE = 0.559\n",
      "fat: MAE = 5.19, MASE = 0.727\n",
      "carb: MAE = 7.17, MASE = 0.449\n",
      "protein: MAE = 2.24, MASE = 0.583\n",
      "0.579\n",
      "energy: MAE = 55.19, MASE = 0.550\n",
      "fat: MAE = 5.09, MASE = 0.714\n",
      "carb: MAE = 7.12, MASE = 0.445\n",
      "protein: MAE = 2.21, MASE = 0.576\n",
      "0.571\n"
     ]
    }
   ],
   "source": [
    "#top k\n",
    "# #per recipe\n",
    "for k in [1,5,10]:\n",
    "    gts, preds, absolute_errors, percentage_errors, symmetric_percentage_errors = pred_nutr(im2recipe_dict,nutr_per_recipes,k)\n",
    "    all_mase = []\n",
    "    all_mad = {}\n",
    "    for nutr_name in gts.keys():\n",
    "        mae = sum(absolute_errors[nutr_name])/len(absolute_errors[nutr_name])\n",
    "        m = np.array(gts[nutr_name]).mean()\n",
    "        mad = sum(np.abs(np.array(gts[nutr_name]) - m))/(len(gts[nutr_name]))\n",
    "        mase = mae / mad\n",
    "        all_mad[nutr_name] = mad\n",
    "        all_mase.append(mase)\n",
    "        print(f'{nutr_name}: MAE = {mae:.02f}, MASE = {mase:.03f}')\n",
    "    print(f'{sum(all_mase)/4:.03f}')\n",
    "#per gram\n",
    "for k in [1,5,10]:\n",
    "    gts, preds, absolute_errors, percentage_errors, symmetric_percentage_errors = pred_nutr(im2recipe_dict,nutr_g_per_recipes,k)\n",
    "    all_mase = []\n",
    "    all_mad = {}\n",
    "    for nutr_name in gts.keys():\n",
    "        mae = sum(absolute_errors[nutr_name])/len(absolute_errors[nutr_name])\n",
    "        m = np.array(gts[nutr_name]).mean()\n",
    "        mad = sum(np.abs(np.array(gts[nutr_name]) - m))/(len(gts[nutr_name]))\n",
    "        mase = mae / mad\n",
    "        all_mad[nutr_name] = mad\n",
    "        all_mase.append(mase)\n",
    "        print(f'{nutr_name}: MAE = {mae:.02f}, MASE = {mase:.03f}')\n",
    "    print(f'{sum(all_mase)/4:.03f}')"
   ]
  },
  {
   "cell_type": "code",
   "execution_count": 64,
   "metadata": {},
   "outputs": [
    {
     "name": "stdout",
     "output_type": "stream",
     "text": [
      "energy: MAE = 53.983, MASE = 0.538\n",
      "fat: MAE = 4.893, MASE = 0.685\n",
      "carb: MAE = 6.986, MASE = 0.437\n",
      "protein: MAE = 2.159, MASE = 0.562\n",
      "0.556\n"
     ]
    }
   ],
   "source": [
    "#direct\n",
    "# per gram\n",
    "gts, preds, absolute_errors, percentage_errors, symmetric_percentage_errors = direct_pred_nutr(out_nutr,nutr_g_per_recipes)\n",
    "all_mase = []\n",
    "all_mad = {}\n",
    "for nutr_name in gts.keys():\n",
    "    mae = sum(absolute_errors[nutr_name])/len(absolute_errors[nutr_name])\n",
    "    m = np.array(gts[nutr_name]).mean()\n",
    "    mad = sum(np.abs(np.array(gts[nutr_name]) - m))/(len(gts[nutr_name]))\n",
    "    mase = mae / mad\n",
    "    all_mad[nutr_name] = mad\n",
    "    all_mase.append(mase)\n",
    "    print(f'{nutr_name}: MAE = {mae:.03f}, MASE = {mase:.03f}')\n",
    "print(f'{sum(all_mase)/4:.03f}')"
   ]
  },
  {
   "cell_type": "code",
   "execution_count": 37,
   "metadata": {},
   "outputs": [],
   "source": [
    "#k ablation per gram\n",
    "k_ablation_mase = []\n",
    "for k in range(1,51):\n",
    "    gts, preds, absolute_errors, percentage_errors, symmetric_percentage_errors = pred_nutr(im2recipe_dict,nutr_g_per_recipes,k)\n",
    "    all_mase = []\n",
    "    all_mad = {}\n",
    "    for nutr_name in gts.keys():\n",
    "        mae = sum(absolute_errors[nutr_name])/len(absolute_errors[nutr_name])\n",
    "        m = np.array(gts[nutr_name]).mean()\n",
    "        mad = sum(np.abs(np.array(gts[nutr_name]) - m))/(len(gts[nutr_name]))\n",
    "        mase = mae / mad\n",
    "        all_mad[nutr_name] = mad\n",
    "        all_mase.append(mase)\n",
    "        # print(f'{nutr_name}: MAE = {mae:.02f}, MASE = {mase:.03f}')\n",
    "    # print(f'{sum(all_mase)/4:.03f}')\n",
    "    k_ablation_mase.append(sum(all_mase)/4)"
   ]
  },
  {
   "cell_type": "code",
   "execution_count": 38,
   "metadata": {},
   "outputs": [],
   "source": [
    "save_path = f'k_ablation/{dir}.json'\n",
    "os.makedirs(os.path.dirname(save_path),exist_ok=True)\n",
    "with open(save_path,'w') as f:\n",
    "    json.dump(k_ablation_mase,f,indent=2)"
   ]
  },
  {
   "cell_type": "code",
   "execution_count": 39,
   "metadata": {},
   "outputs": [],
   "source": [
    "with open('k_ablation/deep_ht/direct_ingrs_3_branches/no_nutr/food_test_recipe_only.json') as f:\n",
    "    our_ks = json.load(f)\n",
    "with open('k_ablation/ht/base.json') as f:\n",
    "    ht_ks = json.load(f)\n",
    "with open('k_ablation/vlpcook/base.json') as f:\n",
    "    vlp_ks = json.load(f)"
   ]
  },
  {
   "cell_type": "code",
   "execution_count": 56,
   "metadata": {},
   "outputs": [
    {
     "data": {
      "image/png": "[encoded data removed]",
      "text/plain": [
       "<Figure size 432x288 with 1 Axes>"
      ]
     },
     "metadata": {
      "needs_background": "light"
     },
     "output_type": "display_data"
    }
   ],
   "source": [
    "import matplotlib.pyplot as plt\n",
    "\n",
    "plt.figure()\n",
    "plt.plot(range(1,51),our_ks)\n",
    "plt.plot(range(1,51),ht_ks)\n",
    "plt.plot(range(1,51),vlp_ks)\n",
    "plt.plot([np.array(our_ks).argmin() + 1]*2, [0,1], ':', c='tab:blue')\n",
    "plt.plot([np.array(ht_ks).argmin() + 1]*2, [0,1], ':', c='tab:orange')\n",
    "plt.plot([np.array(vlp_ks).argmin() + 1]*2, [0,1], ':', c='tab:green')\n",
    "plt.ylim([0.550,0.750])\n",
    "plt.xlabel('k')\n",
    "plt.ylabel('avg. MASE')\n",
    "plt.legend(['NutriSearch (Ours)','H-T','VLPCook'])\n",
    "plt.show()"
   ]
  },
  {
   "cell_type": "code",
   "execution_count": 51,
   "metadata": {},
   "outputs": [
    {
     "data": {
      "text/plain": [
       "12"
      ]
     },
     "execution_count": 51,
     "metadata": {},
     "output_type": "execute_result"
    }
   ],
   "source": [
    "np.array(our_ks).argmin()"
   ]
  },
  {
   "cell_type": "code",
   "execution_count": null,
   "metadata": {},
   "outputs": [],
   "source": []
  }
 ],
 "metadata": {
  "kernelspec": {
   "display_name": "vlpcook",
   "language": "python",
   "name": "python3"
  },
  "language_info": {
   "codemirror_mode": {
    "name": "ipython",
    "version": 3
   },
   "file_extension": ".py",
   "mimetype": "text/x-python",
   "name": "python",
   "nbconvert_exporter": "python",
   "pygments_lexer": "ipython3",
   "version": "3.7.12"
  }
 },
 "nbformat": 4,
 "nbformat_minor": 2
}
