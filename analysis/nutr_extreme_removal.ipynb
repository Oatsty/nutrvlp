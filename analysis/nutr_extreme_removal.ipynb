{
 "cells": [
  {
   "cell_type": "code",
   "execution_count": 1,
   "metadata": {},
   "outputs": [],
   "source": [
    "import pickle\n",
    "import json\n",
    "import numpy as np\n",
    "import os"
   ]
  },
  {
   "cell_type": "code",
   "execution_count": 2,
   "metadata": {},
   "outputs": [],
   "source": [
    "with open('/home/parinayok/nutr1m/data_crawl/food.com_annotated_nutr_per_recipe_old.json') as f:\n",
    "    nutr_per_recipes = json.load(f)"
   ]
  },
  {
   "cell_type": "code",
   "execution_count": 4,
   "metadata": {},
   "outputs": [],
   "source": [
    "gts = {\n",
    "    'energy': [],\n",
    "    'fat': [],\n",
    "    'carb': [],\n",
    "    'protein': [],\n",
    "}\n",
    "\n",
    "recipe_ids = []\n",
    "\n",
    "for recipe_id, nutr in nutr_per_recipes.items():\n",
    "    recipe_ids.append(recipe_id)\n",
    "    for nutr_name in gts.keys():\n",
    "        gts[nutr_name].append(nutr[nutr_name])"
   ]
  },
  {
   "cell_type": "code",
   "execution_count": 7,
   "metadata": {},
   "outputs": [],
   "source": [
    "stds = {}\n",
    "means = {}\n",
    "\n",
    "for nutr_name, nutr in gts.items():\n",
    "    stds[nutr_name] = np.array(nutr).std()\n",
    "    means[nutr_name] = np.array(nutr).mean()"
   ]
  },
  {
   "cell_type": "code",
   "execution_count": 8,
   "metadata": {},
   "outputs": [
    {
     "data": {
      "text/plain": [
       "{'energy': 2313.7767561111345,\n",
       " 'fat': 112.83192558939707,\n",
       " 'carb': 251.98499967101864,\n",
       " 'protein': 77.84561941449086}"
      ]
     },
     "execution_count": 8,
     "metadata": {},
     "output_type": "execute_result"
    }
   ],
   "source": [
    "means"
   ]
  },
  {
   "cell_type": "code",
   "execution_count": 14,
   "metadata": {},
   "outputs": [],
   "source": [
    "extreme_recipes = []\n",
    "for nutr_name, nutr in gts.items():\n",
    "    for i, val in enumerate(nutr):\n",
    "        if val - means[nutr_name] > 3 * stds[nutr_name]:\n",
    "            extreme_recipes.append(recipe_ids[i])\n"
   ]
  },
  {
   "cell_type": "code",
   "execution_count": 15,
   "metadata": {},
   "outputs": [
    {
     "data": {
      "text/plain": [
       "1515"
      ]
     },
     "execution_count": 15,
     "metadata": {},
     "output_type": "execute_result"
    }
   ],
   "source": [
    "len(extreme_recipes)"
   ]
  },
  {
   "cell_type": "code",
   "execution_count": 16,
   "metadata": {},
   "outputs": [],
   "source": [
    "with open('extreme_recipes.json','w') as f:\n",
    "    json.dump(extreme_recipes,f,indent=2)"
   ]
  },
  {
   "cell_type": "code",
   "execution_count": null,
   "metadata": {},
   "outputs": [],
   "source": []
  }
 ],
 "metadata": {
  "kernelspec": {
   "display_name": "food.com_net_test",
   "language": "python",
   "name": "python3"
  },
  "language_info": {
   "codemirror_mode": {
    "name": "ipython",
    "version": 3
   },
   "file_extension": ".py",
   "mimetype": "text/x-python",
   "name": "python",
   "nbconvert_exporter": "python",
   "pygments_lexer": "ipython3",
   "version": "3.7.12"
  }
 },
 "nbformat": 4,
 "nbformat_minor": 2
}
